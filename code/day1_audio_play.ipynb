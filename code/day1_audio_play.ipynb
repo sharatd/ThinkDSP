{
 "cells": [
  {
   "cell_type": "code",
   "execution_count": 1,
   "id": "19d277b1-0240-4b09-a5e1-a06edb93d23e",
   "metadata": {},
   "outputs": [
    {
     "name": "stdout",
     "output_type": "stream",
     "text": [
      "Requirement already satisfied: simpleaudio in /Users/sharatdhananjaya/Code/ThinkDSP/thinkdsp-env/lib/python3.13/site-packages (1.0.4)\n",
      "Note: you may need to restart the kernel to use updated packages.\n"
     ]
    }
   ],
   "source": [
    "pip install simpleaudio"
   ]
  },
  {
   "cell_type": "code",
   "execution_count": null,
   "id": "a28f2833-7a8d-4936-8b71-138a82a15328",
   "metadata": {},
   "outputs": [],
   "source": [
    "import simpleaudio as sa\n",
    "from thinkdsp import read_wave\n",
    "\n",
    "wave = read_wave('100475__iluppai__saxophone-weep.wav')\n",
    "samples = wave.ys * 32767  # convert to 16-bit integer\n",
    "samples = samples.astype('int16')\n",
    "\n",
    "play_obj = sa.play_buffer(samples, 1, 2, wave.framerate)\n",
    "play_obj.wait_done()\n"
   ]
  },
  {
   "cell_type": "code",
   "execution_count": null,
   "id": "d75b8559-f636-4cc4-a1cb-94d6ca82b0f1",
   "metadata": {},
   "outputs": [],
   "source": []
  }
 ],
 "metadata": {
  "kernelspec": {
   "display_name": "Python 3 (ipykernel)",
   "language": "python",
   "name": "python3"
  },
  "language_info": {
   "codemirror_mode": {
    "name": "ipython",
    "version": 3
   },
   "file_extension": ".py",
   "mimetype": "text/x-python",
   "name": "python",
   "nbconvert_exporter": "python",
   "pygments_lexer": "ipython3",
   "version": "3.13.4"
  }
 },
 "nbformat": 4,
 "nbformat_minor": 5
}
